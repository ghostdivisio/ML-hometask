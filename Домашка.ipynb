{
  "nbformat": 4,
  "nbformat_minor": 0,
  "metadata": {
    "colab": {
      "provenance": []
    },
    "kernelspec": {
      "name": "python3",
      "display_name": "Python 3"
    },
    "language_info": {
      "name": "python"
    }
  },
  "cells": [
    {
      "cell_type": "markdown",
      "source": [
        "Задание 1. Часть 1"
      ],
      "metadata": {
        "id": "ZCfBTZhXQY_E"
      }
    },
    {
      "cell_type": "code",
      "execution_count": null,
      "metadata": {
        "id": "FwewV_4JLhqO"
      },
      "outputs": [],
      "source": [
        "class Animal:\n",
        "    tallest_animal = None\n",
        "    def __init__(self, name, height):\n",
        "        self.name = name\n",
        "        self.height = height\n",
        "        if not Animal.tallest_animal or height > Animal.tallest_animal.height:\n",
        "            Animal.tallest_animal = self\n",
        "    @classmethod\n",
        "    def get_highest(cls):\n",
        "        if cls.tallest_animal:\n",
        "            return cls.tallest_animal.height, cls.tallest_animal.name\n",
        "        else:\n",
        "            return None"
      ]
    },
    {
      "cell_type": "code",
      "source": [
        "a1 = Animal(\"Alex\", 200)\n",
        "a2 = Animal(\"Melman\", 400)\n",
        "a3 = Animal(\"King Julien XIII\", 40)\n",
        "a4 = Animal(\"Maurice\", 40)\n",
        "Animal.get_highest()"
      ],
      "metadata": {
        "colab": {
          "base_uri": "https://localhost:8080/"
        },
        "id": "cSqETs0mQO3S",
        "outputId": "ec441f2d-d335-44d6-9f00-b821a07cbb83"
      },
      "execution_count": null,
      "outputs": [
        {
          "output_type": "execute_result",
          "data": {
            "text/plain": [
              "(400, 'Melman')"
            ]
          },
          "metadata": {},
          "execution_count": 2
        }
      ]
    },
    {
      "cell_type": "markdown",
      "source": [
        "Задание 1. Часть 2"
      ],
      "metadata": {
        "id": "O27tjeBWQfO4"
      }
    },
    {
      "cell_type": "code",
      "source": [
        "class Lemur(Animal):\n",
        "    def __init__(self, name, height):\n",
        "        super().__init__(name, height)\n",
        "\n",
        "class Giraffe(Animal):\n",
        "    def __init__(self, name, height):\n",
        "        super().__init__(name, height)\n",
        "\n",
        "class Lion(Animal):\n",
        "    def __init__(self, name, height):\n",
        "        super().__init__(name, height)\n"
      ],
      "metadata": {
        "id": "Xj7iXeleTmvv"
      },
      "execution_count": null,
      "outputs": []
    },
    {
      "cell_type": "code",
      "source": [
        "a1 = Lion(\"Alex\", 200)\n",
        "a2 = Giraffe(\"Melman\", 400)\n",
        "a3 = Lemur(\"King Julien XIII\", 40)\n",
        "a4 = Lemur(\"Maurice\", 40)\n",
        "\n",
        "a1 == a2\n"
      ],
      "metadata": {
        "colab": {
          "base_uri": "https://localhost:8080/"
        },
        "id": "JV-T_jmQe7ov",
        "outputId": "a9ac86b1-675c-45e8-ca1e-b919f03df681"
      },
      "execution_count": null,
      "outputs": [
        {
          "output_type": "execute_result",
          "data": {
            "text/plain": [
              "False"
            ]
          },
          "metadata": {},
          "execution_count": 9
        }
      ]
    },
    {
      "cell_type": "markdown",
      "source": [
        "Задание 1. Часть 3"
      ],
      "metadata": {
        "id": "L2BJmIdYf1xi"
      }
    },
    {
      "cell_type": "code",
      "source": [],
      "metadata": {
        "id": "wdnxaDz6f8JK"
      },
      "execution_count": null,
      "outputs": []
    },
    {
      "cell_type": "markdown",
      "source": [
        "Задание 2"
      ],
      "metadata": {
        "id": "EOlMgwHzgmVm"
      }
    },
    {
      "cell_type": "code",
      "source": [
        "import abc\n",
        "\n",
        "class TranslationFile(metaclass=abc.ABCMeta):\n",
        "    def __init__(self, filename):\n",
        "        self.filename = filename\n",
        "\n",
        "    @abc.abstractmethod\n",
        "    def parse(self):\n",
        "        pass\n",
        "\n",
        "    @abc.abstractmethod\n",
        "    def translate(self, target_language):\n",
        "        pass\n",
        "\n",
        "    @abc.abstractmethod\n",
        "    def detect_language(self):\n",
        "        pass\n",
        "\n",
        "class Xliff(TranslationFile):\n",
        "    def parse(self):\n",
        "        # Parse xliff file\n",
        "        pass\n",
        "\n",
        "    def translate(self, target_language):\n",
        "        # Translate xliff file\n",
        "        pass\n",
        "\n",
        "    def detect_language(self):\n",
        "        # Detect language of xliff file\n",
        "        pass\n",
        "\n",
        "class Po(TranslationFile):\n",
        "    def parse(self):\n",
        "        # Parse po file\n",
        "        pass\n",
        "\n",
        "    def translate(self, target_language):\n",
        "        # Translate po file\n",
        "        pass\n",
        "\n",
        "    def detect_language(self):\n",
        "        # Detect language of po file\n",
        "        pass\n",
        "\n",
        "class Ts(TranslationFile):\n",
        "    def parse(self):\n",
        "        # Parse ts file\n",
        "        pass\n",
        "\n",
        "    def translate(self, target_language):\n",
        "        # Translate ts file\n",
        "        pass\n",
        "\n",
        "    def detect_language(self):\n",
        "        # Detect language of ts file\n",
        "        pass\n",
        "class TranslationFileStats:\n",
        "    def __init__(self, files):\n",
        "        self.files = files\n",
        "\n",
        "    def count_languages(self):\n",
        "        language_counts = {}\n",
        "        for file in self.files:\n",
        "            language = file.detect_language()\n",
        "            if language in language_counts:\n",
        "                language_counts[language] += 1\n",
        "            else:\n",
        "                language_counts[language] = 1\n",
        "        return language_counts\n",
        "\n"
      ],
      "metadata": {
        "id": "dzMbKNbRgwkV"
      },
      "execution_count": null,
      "outputs": []
    },
    {
      "cell_type": "markdown",
      "source": [
        "Задание 3"
      ],
      "metadata": {
        "id": "hIV-QxFMigPZ"
      }
    },
    {
      "cell_type": "code",
      "source": [
        "class csv(TranslationFile):\n",
        "    def parse(self):\n",
        "        # Parse csv file\n",
        "        pass\n",
        "\n",
        "    def translate(self, target_language):\n",
        "        # Translate csv file\n",
        "        pass\n",
        "\n",
        "    def detect_language(self):\n",
        "        # Detect language of csv file\n",
        "        pass\n",
        "\n",
        "class Resw(TranslationFile):\n",
        "    def parse(self):\n",
        "        # Parse resw file\n",
        "        pass\n",
        "\n",
        "    def translate(self, target_language):\n",
        "        # Translate resw file\n",
        "        pass\n",
        "\n",
        "    def detect_language(self):\n",
        "        # Detect language of resw file\n",
        "        pass\n",
        "\n",
        "class Php(TranslationFile):\n",
        "    def parse(self):\n",
        "        # Parse php file\n",
        "        pass\n",
        "\n",
        "    def translate(self, target_language):\n",
        "        # Translate php file\n",
        "        pass\n",
        "\n",
        "    def detect_language(self):\n",
        "        # Detect language of php file\n",
        "        pass"
      ],
      "metadata": {
        "id": "9BVljZQliowJ"
      },
      "execution_count": null,
      "outputs": []
    }
  ]
}